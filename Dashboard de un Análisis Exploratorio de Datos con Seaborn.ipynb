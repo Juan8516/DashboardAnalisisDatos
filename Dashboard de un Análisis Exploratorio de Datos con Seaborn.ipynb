{
 "cells": [
  {
   "cell_type": "markdown",
   "id": "6fdaca99",
   "metadata": {},
   "source": [
    "# Dashboard de un Análisis Exploratorio de Datos con Seaborn"
   ]
  },
  {
   "cell_type": "markdown",
   "id": "e216360f",
   "metadata": {},
   "source": [
    "## Introducción\n",
    "Este notebook tiene como objetivo demostrar cómo utilizar Seaborn para **crear visualizaciones complejas y atractivas para el análisis exploratorio de datos** utilizando el dataset de `diamonds`, pertenenciente a la librería **Seaborn** en Python. Este dashboard incluirá visualizaciones que muestren:\n",
    "* relaciones estadísticas\n",
    "* distribuciones de variables\n",
    "* comparaciones entre categorías\n",
    "\n",
    "El estudiante deberá:\n",
    "1. Carga del dataset `diamonds` de Seaborn\n",
    "2. Un **análisis exploratorio** preliminar para los datos\n",
    "3. Se crean visualizaciones con:\n",
    "    * Relaciones entre variables numéricas (por ejemplo, precio vs. peso en quilates)\n",
    "    * Distribuciones de variables numéricas (por ejemplo, precio, peso en quilates)\n",
    "    * Comparaciones de variables numéricas agrupadas por categorías (por ejemplo, calidad del corte)\n",
    "4. Utilizacion de `jointplot()` para explorar relaciones específicas entre pares de variables, incluyendo información estadística adicional\n",
    "5. Utilizacion de `pairplot()` para visualizar las relaciones entre todas las variables numéricas del dataset de manera conjunta\n",
    "6. Ajuste de los estilos y temas de las visualizaciones para mejorar la estética y legibilidad\n",
    "7. Interpretar los gráficos generados, destacando hallazgos interesantes sobre los datos\n"
   ]
  },
  {
   "cell_type": "code",
   "execution_count": 4,
   "id": "8a3bb5a9",
   "metadata": {},
   "outputs": [],
   "source": [
    "import seaborn as sns\n",
    "import pandas as pd\n",
    "import numpy as np"
   ]
  },
  {
   "cell_type": "code",
   "execution_count": 22,
   "id": "4709be5c-8728-46b7-8919-afd188920646",
   "metadata": {},
   "outputs": [],
   "source": [
    "#1. Carga del dataset diamonds de Seaborn.\n",
    "\n",
    "diamantes = sns.load_dataset('diamonds')"
   ]
  },
  {
   "cell_type": "code",
   "execution_count": 23,
   "id": "989f9a5b-5091-41dd-9c8b-58803d5e08b2",
   "metadata": {},
   "outputs": [
    {
     "name": "stdout",
     "output_type": "stream",
     "text": [
      "   carat      cut color clarity  depth  table  price     x     y     z\n",
      "0   0.23    Ideal     E     SI2   61.5   55.0    326  3.95  3.98  2.43\n",
      "1   0.21  Premium     E     SI1   59.8   61.0    326  3.89  3.84  2.31\n",
      "2   0.23     Good     E     VS1   56.9   65.0    327  4.05  4.07  2.31\n",
      "3   0.29  Premium     I     VS2   62.4   58.0    334  4.20  4.23  2.63\n",
      "4   0.31     Good     J     SI2   63.3   58.0    335  4.34  4.35  2.75\n"
     ]
    }
   ],
   "source": [
    "# 2. Análisis exploratorio preliminar para los datos.\n",
    "\n",
    "# Muestra las primeras filas del DataFrame.\n",
    "print(diamantes.head())"
   ]
  },
  {
   "cell_type": "code",
   "execution_count": 24,
   "id": "6dcf209c-4789-4421-93e4-6ede567e8725",
   "metadata": {},
   "outputs": [
    {
     "name": "stdout",
     "output_type": "stream",
     "text": [
      "(53940, 10)\n"
     ]
    }
   ],
   "source": [
    "# Dimensiones del DataFrame.\n",
    "print(diamantes.shape)"
   ]
  },
  {
   "cell_type": "code",
   "execution_count": 25,
   "id": "7e5ec64d-36b2-41e1-8269-9b5c4c0430c6",
   "metadata": {},
   "outputs": [
    {
     "name": "stdout",
     "output_type": "stream",
     "text": [
      "<bound method DataFrame.info of        carat        cut color clarity  depth  table  price     x     y     z\n",
      "0       0.23      Ideal     E     SI2   61.5   55.0    326  3.95  3.98  2.43\n",
      "1       0.21    Premium     E     SI1   59.8   61.0    326  3.89  3.84  2.31\n",
      "2       0.23       Good     E     VS1   56.9   65.0    327  4.05  4.07  2.31\n",
      "3       0.29    Premium     I     VS2   62.4   58.0    334  4.20  4.23  2.63\n",
      "4       0.31       Good     J     SI2   63.3   58.0    335  4.34  4.35  2.75\n",
      "...      ...        ...   ...     ...    ...    ...    ...   ...   ...   ...\n",
      "53935   0.72      Ideal     D     SI1   60.8   57.0   2757  5.75  5.76  3.50\n",
      "53936   0.72       Good     D     SI1   63.1   55.0   2757  5.69  5.75  3.61\n",
      "53937   0.70  Very Good     D     SI1   62.8   60.0   2757  5.66  5.68  3.56\n",
      "53938   0.86    Premium     H     SI2   61.0   58.0   2757  6.15  6.12  3.74\n",
      "53939   0.75      Ideal     D     SI2   62.2   55.0   2757  5.83  5.87  3.64\n",
      "\n",
      "[53940 rows x 10 columns]>\n"
     ]
    }
   ],
   "source": [
    "# Información sobre los tipos de datos y valores faltantes.\n",
    "print(diamantes.info)"
   ]
  },
  {
   "cell_type": "code",
   "execution_count": 26,
   "id": "5b00409d-986f-4b4d-8c29-1121ec1dd9df",
   "metadata": {},
   "outputs": [
    {
     "data": {
      "text/plain": [
       "<bound method NDFrame.describe of        carat        cut color clarity  depth  table  price     x     y     z\n",
       "0       0.23      Ideal     E     SI2   61.5   55.0    326  3.95  3.98  2.43\n",
       "1       0.21    Premium     E     SI1   59.8   61.0    326  3.89  3.84  2.31\n",
       "2       0.23       Good     E     VS1   56.9   65.0    327  4.05  4.07  2.31\n",
       "3       0.29    Premium     I     VS2   62.4   58.0    334  4.20  4.23  2.63\n",
       "4       0.31       Good     J     SI2   63.3   58.0    335  4.34  4.35  2.75\n",
       "...      ...        ...   ...     ...    ...    ...    ...   ...   ...   ...\n",
       "53935   0.72      Ideal     D     SI1   60.8   57.0   2757  5.75  5.76  3.50\n",
       "53936   0.72       Good     D     SI1   63.1   55.0   2757  5.69  5.75  3.61\n",
       "53937   0.70  Very Good     D     SI1   62.8   60.0   2757  5.66  5.68  3.56\n",
       "53938   0.86    Premium     H     SI2   61.0   58.0   2757  6.15  6.12  3.74\n",
       "53939   0.75      Ideal     D     SI2   62.2   55.0   2757  5.83  5.87  3.64\n",
       "\n",
       "[53940 rows x 10 columns]>"
      ]
     },
     "execution_count": 26,
     "metadata": {},
     "output_type": "execute_result"
    }
   ],
   "source": [
    "# Estadísticas descriptivas.\n",
    "diamantes.describe"
   ]
  },
  {
   "cell_type": "code",
   "execution_count": 27,
   "id": "82366726-d716-4088-9bac-b3179fdf1374",
   "metadata": {},
   "outputs": [
    {
     "name": "stdout",
     "output_type": "stream",
     "text": [
      "<bound method DataFrame.nunique of        carat        cut color clarity  depth  table  price     x     y     z\n",
      "0       0.23      Ideal     E     SI2   61.5   55.0    326  3.95  3.98  2.43\n",
      "1       0.21    Premium     E     SI1   59.8   61.0    326  3.89  3.84  2.31\n",
      "2       0.23       Good     E     VS1   56.9   65.0    327  4.05  4.07  2.31\n",
      "3       0.29    Premium     I     VS2   62.4   58.0    334  4.20  4.23  2.63\n",
      "4       0.31       Good     J     SI2   63.3   58.0    335  4.34  4.35  2.75\n",
      "...      ...        ...   ...     ...    ...    ...    ...   ...   ...   ...\n",
      "53935   0.72      Ideal     D     SI1   60.8   57.0   2757  5.75  5.76  3.50\n",
      "53936   0.72       Good     D     SI1   63.1   55.0   2757  5.69  5.75  3.61\n",
      "53937   0.70  Very Good     D     SI1   62.8   60.0   2757  5.66  5.68  3.56\n",
      "53938   0.86    Premium     H     SI2   61.0   58.0   2757  6.15  6.12  3.74\n",
      "53939   0.75      Ideal     D     SI2   62.2   55.0   2757  5.83  5.87  3.64\n",
      "\n",
      "[53940 rows x 10 columns]>\n"
     ]
    }
   ],
   "source": [
    "# Número de valores únicos por columna.\n",
    "print(diamantes.nunique)"
   ]
  },
  {
   "cell_type": "code",
   "execution_count": 28,
   "id": "90d38095-1531-4c88-8cca-85bd1774509b",
   "metadata": {},
   "outputs": [
    {
     "name": "stdout",
     "output_type": "stream",
     "text": [
      "carat      0\n",
      "cut        0\n",
      "color      0\n",
      "clarity    0\n",
      "depth      0\n",
      "table      0\n",
      "price      0\n",
      "x          0\n",
      "y          0\n",
      "z          0\n",
      "dtype: int64\n"
     ]
    }
   ],
   "source": [
    "# Verificar valores faltantes.\n",
    "print(diamantes.isnull().sum())"
   ]
  },
  {
   "cell_type": "code",
   "execution_count": 29,
   "id": "41acd3b3-82d8-47e6-806d-5bc073123bf2",
   "metadata": {},
   "outputs": [
    {
     "name": "stdout",
     "output_type": "stream",
     "text": [
      "carat      0.0\n",
      "cut        0.0\n",
      "color      0.0\n",
      "clarity    0.0\n",
      "depth      0.0\n",
      "table      0.0\n",
      "price      0.0\n",
      "x          0.0\n",
      "y          0.0\n",
      "z          0.0\n",
      "dtype: float64\n"
     ]
    }
   ],
   "source": [
    "# Porcentaje de valores faltantes por columna.\n",
    "print(diamantes.isnull().mean() * 100)"
   ]
  },
  {
   "cell_type": "code",
   "execution_count": 31,
   "id": "018eb2c3-8174-4eaa-bfe1-59634917aa4f",
   "metadata": {},
   "outputs": [
    {
     "name": "stdout",
     "output_type": "stream",
     "text": [
      "       carat        cut color clarity  depth  table  price     x     y     z\n",
      "0       0.23      Ideal     E     SI2   61.5   55.0    326  3.95  3.98  2.43\n",
      "1       0.21    Premium     E     SI1   59.8   61.0    326  3.89  3.84  2.31\n",
      "2       0.23       Good     E     VS1   56.9   65.0    327  4.05  4.07  2.31\n",
      "3       0.29    Premium     I     VS2   62.4   58.0    334  4.20  4.23  2.63\n",
      "4       0.31       Good     J     SI2   63.3   58.0    335  4.34  4.35  2.75\n",
      "...      ...        ...   ...     ...    ...    ...    ...   ...   ...   ...\n",
      "53935   0.72      Ideal     D     SI1   60.8   57.0   2757  5.75  5.76  3.50\n",
      "53936   0.72       Good     D     SI1   63.1   55.0   2757  5.69  5.75  3.61\n",
      "53937   0.70  Very Good     D     SI1   62.8   60.0   2757  5.66  5.68  3.56\n",
      "53938   0.86    Premium     H     SI2   61.0   58.0   2757  6.15  6.12  3.74\n",
      "53939   0.75      Ideal     D     SI2   62.2   55.0   2757  5.83  5.87  3.64\n",
      "\n",
      "[53794 rows x 10 columns]\n"
     ]
    }
   ],
   "source": [
    "# Eliminar filas duplicadas.\n",
    "diamantes.drop_duplicates(inplace=True)\n",
    "print(diamantes)"
   ]
  },
  {
   "cell_type": "code",
   "execution_count": null,
   "id": "04b7462a-3fc2-4e99-a45d-6ce999c3dcea",
   "metadata": {},
   "outputs": [],
   "source": []
  }
 ],
 "metadata": {
  "kernelspec": {
   "display_name": "Python 3 (ipykernel)",
   "language": "python",
   "name": "python3"
  },
  "language_info": {
   "codemirror_mode": {
    "name": "ipython",
    "version": 3
   },
   "file_extension": ".py",
   "mimetype": "text/x-python",
   "name": "python",
   "nbconvert_exporter": "python",
   "pygments_lexer": "ipython3",
   "version": "3.12.4"
  }
 },
 "nbformat": 4,
 "nbformat_minor": 5
}
